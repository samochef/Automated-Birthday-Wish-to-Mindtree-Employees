{
 "cells": [
  {
   "cell_type": "code",
   "execution_count": 1,
   "metadata": {
    "scrolled": true
   },
   "outputs": [
    {
     "name": "stdout",
     "output_type": "stream",
     "text": [
      "Aaqib.Wani@mindtree.com;AARTHI.DIRAVIDAMANI@MINDTREE.COM;Abhishek.D@mindtree.com;AHMED.KABEER2@MINDTREE.COM;Ajit.Sikdar@mindtree.com;AKANSHA.SINHA@MINDTREE.COM;Allur.Keerthi@mindtree.com;Alok.Patro@mindtree.com;ANIL.ORUGANTI@MINDTREE.COM;ANISH.ES@MINDTREE.COM;Anjali.Nair@mindtree.com;M9512783@mindtree.com;ANSH.GUPTA@MINDTREE.COM;M9513266@mindtree.com;Arihant.S@mindtree.com;Arnob.Roy@mindtree.com;Arulkumar.A.P@mindtree.com;ATTIRALA.VINEETHA@MINDTREE.COM;M9512889@mindtree.com;AVICHAL.KUMAR@MINDTREE.COM;AYESHA.SAMRIN@MINDTREE.COM;Behara.Hareesh@mindtree.com;BELLAMKONDA.MANEESHA2@MINDTREE.COM;BESTHA.SEKHAR2@MINDTREE.COM;M9512899@mindtree.com;Bhavik.Rathod@mindtree.com;Bibek.Bhattarai@mindtree.com;Busam.DivyaSudhaNagaLakshmi2@mindtree.com;D.Balaji@mindtree.com;Deepak.Lone@mindtree.com;Dinesh.Vishwanathan@mindtree.com;Divya.Sreemanchineella@mindtree.com;ELSON.MARTIS@MINDTREE.COM;Esa.Nag@mindtree.com;GadiPurna.DurgaPrasad@mindtree.com;GAGAN.JAIN@MINDTREE.COM;GEETHIKA.ABBIREDDY2@MINDTREE.COM;GOPI.THANGARAJ@MINDTREE.COM;Gudusani.Sudheerkumarreddy@mindtree.com;M9511714@mindtree.com;M9512966@mindtree.com;Hema.Sangula@mindtree.com;Iswarya.R@mindtree.com;Jami.Ravikumar2@mindtree.com;JesusRaja.SampathJeyakumar@mindtree.com;Karim.Gontas@mindtree.com;KAVYASHREE.BALAJI@MINDTREE.COM;Kesireddy.Damarnadh@mindtree.com;Khimji.Patel@mindtree.com;KRISHNA.KANHAIYA2@MINDTREE.COM;KUNVARJEET.SINGH@mindtree.com;LAVANIALEEM.KHAN@MINDTREE.COM;LAVANYA.NIRANJAN@MINDTREE.COM;Lipika.Bhasini@mindtree.com;Lokesh.Bhirud@mindtree.com;Madhukar.Purushotham@mindtree.com;Madhumala.Manjunath@mindtree.com;MANSI.GARG@MINDTREE.COM;MD.Zakiuddin@mindtree.com;Mechineni.Sanjana@mindtree.com;Meenakshi.Ramalingam@mindtree.com;Mohammed.Mizfar@mindtree.com;M9512789@mindtree.com;M9513102@mindtree.com;Nagasravyaaparnadevi.Indana@mindtree.com;Navneet.Singh@mindtree.com;NIKITHA.S4@MINDTREE.COM;Nityesh.Madipalle@mindtree.com;Piyush.Patel@mindtree.com;Poorab.Sen@mindtree.com;POTTHURU.RAJEEVCHOWDARY@MINDTREE.COM;M9511889@mindtree.com;Praveen.Mulkalla@mindtree.com;Praveen.Mullapudi@mindtree.com;Rajeshdutta.Kranth@mindtree.com;Ramsantoshkumar.Kasturi@mindtree.com;Ramesh.Sakamuri@mindtree.com;RIA.YADAV2@MINDTREE.COM;Rohit.Raj@mindtree.com;Rupal.Tyagi2@mindtree.com;Rutuja.Debadwar@mindtree.com;M9512612@mindtree.com;Sailaja.Lenka@mindtree.com;SAKAMURI.VINAY2@MINDTREE.COM;M9511928@mindtree.com;Sanath.Rao2@mindtree.com;Satish.Singh3@mindtree.com;Saurabh.Dwivedi@magnet360.com;Shaik.MohammedAfridi2@mindtree.com;SHANTHAGOWDA.KG@MINDTREE.COM;SHASHIDHAR.GIRIDHAR@MINDTREE.COM;M9511680@mindtree.com;SHRIDHAR.ITAGI@MINDTREE.COM;SHRIYA.MANIKTALA@MINDTREE.COM;Shubham.Chatterjee@mindtree.com;Shubham.Ganotra@mindtree.com;Shubhra.Samnani@mindtree.com;SHWETHA.MB@MINDTREE.COM;Simhadri.RaviTeja2@mindtree.com;Sivaprakash.Kodali@mindtree.com;Srikkanth.Madhurbootheswaran@mindtree.com;SRILEKHA.CHANDRAGIRI@MINDTREE.COM;Srinjoy.Burman@mindtree.com;SUBHAM.PAUL@MINDTREE.COM;Sumanth.Yepuru@mindtree.com;Suraj.Yadav@mindtree.com;Suresh.Uppara@mindtree.com;Swathi.Ailu@mindtree.com;M9512951@mindtree.com;M9512004@mindtree.com;M9513045@mindtree.com;Varahanarasimhamurthy.Addepalli@mindtree.com;VARAN.NIMMAGADDA@MINDTREE.COM;Venkatesh.Kotyada@mindtree.com;Vishal.Garg@mindtree.com;Yenugula.Karthik@mindtree.com;Yeshwanth@mindtree.com\n"
     ]
    }
   ],
   "source": [
    "from time import sleep\n",
    "from selenium import webdriver\n",
    "from selenium.webdriver.common.by import By\n",
    "from selenium.webdriver.common.keys import Keys\n",
    "from selenium.webdriver.support.ui import WebDriverWait\n",
    "from selenium.webdriver.support import expected_conditions as EC\n",
    "\n",
    "# \"webdriver.Chrome()\"\n",
    "driver = webdriver.Chrome()\n",
    "driver.implicitly_wait(30)\n",
    "driver.get('https://mindtreeonline.sharepoint.com/sites/Peoplehub/SitePages/Home.aspx')\n",
    "\n",
    "#wait for Sign in page to show\n",
    "wait = WebDriverWait(driver, 20)\n",
    "element = wait.until(EC.element_to_be_clickable((By.XPATH, '//*[@type=\"submit\"]')))\n",
    "\n",
    "signinemail = driver.find_element(By.XPATH, '//*[@type=\"email\"]')\n",
    "signinemail.send_keys(\"m1042991@mindtree.com\")\n",
    "signinemail.send_keys(Keys.RETURN)\n",
    "\n",
    "#wait for password to show\n",
    "wait.until(EC.presence_of_element_located((By.XPATH, '//*[@type=\"password\"]')))\n",
    "\n",
    "signinpass = driver.find_element(By.XPATH, '//*[@type=\"password\"]')\n",
    "signinpass.send_keys(\"Icecream@12345\", Keys.ENTER)\n",
    "#sleep(2)\n",
    "wait.until(EC.element_to_be_clickable((By.XPATH, '//*[@type=\"submit\" and @value=\"Sign in\"]')))\n",
    "# wait.until(EC.staleness_of((By.XPATH, '//*[@id=\"idSIButton9\"]')))\n",
    "signinbutton = driver.find_element(By.XPATH, '//*[@type=\"submit\" and @value=\"Sign in\"]')\n",
    "signinbutton.click()\n",
    "\n",
    "#click on Stay Signed in?\n",
    "wait.until(EC.presence_of_element_located((By.XPATH, '//*[@type=\"submit\" and @value=\"Yes\"]')))\n",
    "\n",
    "driver.find_element(By.XPATH, '//*[@type=\"submit\" and @value=\"Yes\"]').click()\n",
    "\n",
    "#navigate to birthday page\n",
    "wait.until(EC.element_to_be_clickable((By.XPATH, '//*[contains(@class,\"hambgr\")]')))\n",
    "driver.find_element(By.XPATH, '//*[contains(@class,\"hambgr\")]').click()\n",
    "wait.until(EC.element_to_be_clickable((By.XPATH, '//*[text()=\"Birthday Greetings\"]')))\n",
    "driver.find_element(By.XPATH, '//*[text()=\"Birthday Greetings\"]').click()\n",
    "\n",
    "#extract mail ids page by page\n",
    "driver.switch_to.window(driver.window_handles[1])\n",
    "wait.until(EC.presence_of_element_located((By.XPATH, '//*[@id=\"page-numbers\"]')))\n",
    "pagelist = driver.find_elements(By.XPATH, '//*[@id=\"page-numbers\"]/li')\n",
    "#for each page extact the email ids\n",
    "sendmail = []\n",
    "for page in pagelist:\n",
    "    page.click()\n",
    "    userlist = driver.find_elements(By.XPATH, '//li[@class=\"user\"]/*/a')\n",
    "    for user in userlist:\n",
    "        email = user.get_attribute('href').replace(\"mailto:\",\"\").replace(\"?subject=Happy%20Birthday\",\"\")\n",
    "        sendmail.append(email)\n",
    "sendmail = ';'.join(sendmail)\n",
    "print(sendmail)\n",
    "driver.close()"
   ]
  },
  {
   "cell_type": "code",
   "execution_count": 3,
   "metadata": {},
   "outputs": [],
   "source": [
    "import win32com.client as win32\n",
    "outlook = win32.Dispatch('outlook.application')\n",
    "mail = outlook.CreateItem(0)\n",
    "mail.Bcc = sendmail\n",
    "mail.Subject = 'Happy Birthday!'\n",
    "#mail.Body = 'hi'\n",
    "mail.HTMLBody = '<h2>Wishing you all the happiness!</h2>' #this field is optional\n",
    "\n",
    "# To attach a file to the email (optional):\n",
    "attachment  = \"C:\\\\Users\\m1042991\\\\Documents\\\\happy-birthday-card_1308-27972.jpg\"\n",
    "mail.Attachments.Add(attachment)\n",
    "\n",
    "mail.Send()"
   ]
  }
 ],
 "metadata": {
  "kernelspec": {
   "display_name": "Python 3",
   "language": "python",
   "name": "python3"
  },
  "language_info": {
   "codemirror_mode": {
    "name": "ipython",
    "version": 3
   },
   "file_extension": ".py",
   "mimetype": "text/x-python",
   "name": "python",
   "nbconvert_exporter": "python",
   "pygments_lexer": "ipython3",
   "version": "3.7.3"
  }
 },
 "nbformat": 4,
 "nbformat_minor": 2
}
