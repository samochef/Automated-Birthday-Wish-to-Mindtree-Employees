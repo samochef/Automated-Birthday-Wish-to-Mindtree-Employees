{
 "cells": [
  {
   "cell_type": "code",
   "execution_count": null,
   "metadata": {
    "scrolled": true
   },
   "outputs": [],
   "source": [
    "from selenium import webdriver\n",
    "from selenium.webdriver.common.by import By\n",
    "from selenium.webdriver.common.keys import Keys\n",
    "from selenium.webdriver.support.ui import WebDriverWait\n",
    "from selenium.webdriver.support import expected_conditions as EC\n",
    "\n",
    "# \"webdriver.Chrome()\"\n",
    "driver = webdriver.Chrome()\n",
    "driver.implicitly_wait(30)\n",
    "driver.get('~~PeopleHub Mindtree link~~')\n",
    "\n",
    "#wait for Sign in page to show\n",
    "wait = WebDriverWait(driver, 20)\n",
    "element = wait.until(EC.element_to_be_clickable((By.XPATH, '//*[@type=\"submit\"]')))\n",
    "\n",
    "signinemail = driver.find_element(By.XPATH, '//*[@type=\"email\"]')\n",
    "signinemail.send_keys(\"~~Employee email ID~~\")\n",
    "signinemail.send_keys(Keys.RETURN)\n",
    "\n",
    "#wait for password to show\n",
    "wait.until(EC.presence_of_element_located((By.XPATH, '//*[@type=\"password\"]')))\n",
    "\n",
    "signinpass = driver.find_element(By.XPATH, '//*[@type=\"password\"]')\n",
    "signinpass.send_keys(\"~~Employee Password~~\")\n",
    "\n",
    "wait.until(EC.element_to_be_clickable((By.XPATH, '//*[@type=\"submit\" and @value=\"Sign in\"]')))\n",
    "signinbutton = driver.find_element(By.XPATH, '//*[@type=\"submit\" and @value=\"Sign in\"]')\n",
    "signinbutton.click()\n",
    "\n",
    "#click on Stay Signed in?\n",
    "wait.until(EC.presence_of_element_located((By.XPATH, '//*[@type=\"submit\" and @value=\"Yes\"]')))\n",
    "\n",
    "driver.find_element(By.XPATH, '//*[@type=\"submit\" and @value=\"Yes\"]').click()\n",
    "\n",
    "#navigate to birthday page\n",
    "wait.until(EC.element_to_be_clickable((By.XPATH, '//*[contains(@class,\"hambgr\")]')))\n",
    "driver.find_element(By.XPATH, '//*[contains(@class,\"hambgr\")]').click()\n",
    "wait.until(EC.element_to_be_clickable((By.XPATH, '//*[text()=\"Birthday Greetings\"]')))\n",
    "driver.find_element(By.XPATH, '//*[text()=\"Birthday Greetings\"]').click()\n",
    "\n",
    "#extract mail ids page by page\n",
    "driver.switch_to.window(driver.window_handles[1])\n",
    "wait.until(EC.presence_of_element_located((By.XPATH, '//*[@id=\"page-numbers\"]')))\n",
    "pagelist = driver.find_elements(By.XPATH, '//*[@id=\"page-numbers\"]/li')\n",
    "#for each page extact the email ids\n",
    "sendmail = []\n",
    "for page in pagelist:\n",
    "    page.click()\n",
    "    userlist = driver.find_elements(By.XPATH, '//li[@class=\"user\"]/*/a')\n",
    "    for user in userlist:\n",
    "        email = user.get_attribute('href').replace(\"mailto:\",\"\").replace(\"?subject=Happy%20Birthday\",\"\")\n",
    "        sendmail.append(email)\n",
    "sendmail = ';'.join(sendmail)\n",
    "print(sendmail)\n",
    "driver.close()"
   ]
  },
  {
   "cell_type": "code",
   "execution_count": null,
   "metadata": {},
   "outputs": [],
   "source": [
    "import win32com.client as win32\n",
    "outlook = win32.Dispatch('outlook.application')\n",
    "mail = outlook.CreateItem(0)\n",
    "mail.Bcc = sendmail\n",
    "mail.Subject = 'Happy Birthday!'\n",
    "#mail.Body = 'hi'\n",
    "mail.HTMLBody = '<h2>Wishing you all the happiness!</h2>' #this field is optional\n",
    "\n",
    "# To attach a file to the email (optional):\n",
    "attachment  = \"happy-birthday-card_1308-27972.jpg\"\n",
    "mail.Attachments.Add(attachment)\n",
    "\n",
    "mail.Send()"
   ]
  }
 ],
 "metadata": {
  "kernelspec": {
   "display_name": "Python 3",
   "language": "python",
   "name": "python3"
  },
  "language_info": {
   "codemirror_mode": {
    "name": "ipython",
    "version": 3
   },
   "file_extension": ".py",
   "mimetype": "text/x-python",
   "name": "python",
   "nbconvert_exporter": "python",
   "pygments_lexer": "ipython3",
   "version": "3.7.3"
  }
 },
 "nbformat": 4,
 "nbformat_minor": 2
}
